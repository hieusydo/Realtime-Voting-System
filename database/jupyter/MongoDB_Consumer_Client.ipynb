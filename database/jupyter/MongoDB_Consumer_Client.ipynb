{
 "cells": [
  {
   "cell_type": "markdown",
   "metadata": {},
   "source": [
    "# MongoDB Client"
   ]
  },
  {
   "cell_type": "code",
   "execution_count": 83,
   "metadata": {},
   "outputs": [],
   "source": [
    "from pymongo import MongoClient"
   ]
  },
  {
   "cell_type": "code",
   "execution_count": 84,
   "metadata": {},
   "outputs": [],
   "source": [
    "# From command line:\n",
    "\n",
    "# $ mongo\n",
    "# > use BALLOT_DB"
   ]
  },
  {
   "cell_type": "code",
   "execution_count": 85,
   "metadata": {},
   "outputs": [],
   "source": [
    "# Establish a connection to MongoDB\n",
    "client = MongoClient('mongodb://127.0.0.1:27017/')\n",
    "db = client.BALLOT_DB"
   ]
  },
  {
   "cell_type": "markdown",
   "metadata": {},
   "source": [
    "# Establish consumer relationship with Kafka server"
   ]
  },
  {
   "cell_type": "code",
   "execution_count": 88,
   "metadata": {},
   "outputs": [],
   "source": [
    "from kafka import KafkaConsumer\n",
    "import json"
   ]
  },
  {
   "cell_type": "code",
   "execution_count": null,
   "metadata": {},
   "outputs": [],
   "source": [
    "# To consume latest messages and auto-commit offsets\n",
    "consumer = KafkaConsumer('incoming_ballots',\n",
    "                         group_id='ballots',\n",
    "                         bootstrap_servers=['localhost:9092'],\n",
    "                         value_deserializer = lambda m: json.loads(m.decode('ascii')))\n",
    "\n",
    "for ballot in consumer:\n",
    "    print(ballot)\n",
    "#     db.ballots.insert_one(ballot)\n",
    "#     print(\"Ballot added to database.\")\n"
   ]
  },
  {
   "cell_type": "code",
   "execution_count": null,
   "metadata": {},
   "outputs": [],
   "source": []
  },
  {
   "cell_type": "code",
   "execution_count": null,
   "metadata": {},
   "outputs": [],
   "source": [
    "# db.ballots.insert_one(\n",
    "#     {\"item\": \"canvas\",\n",
    "#      \"qty\": 100,\n",
    "#      \"tags\": [\"cotton\"],\n",
    "#      \"size\": {\"h\": 28, \"w\": 35.5, \"uom\": \"cm\"}})"
   ]
  },
  {
   "cell_type": "code",
   "execution_count": null,
   "metadata": {},
   "outputs": [],
   "source": [
    "# cursor = db.ballots.find_one({\"item\": \"canvas\"})"
   ]
  },
  {
   "cell_type": "code",
   "execution_count": null,
   "metadata": {},
   "outputs": [],
   "source": [
    "# print(cursor)"
   ]
  },
  {
   "cell_type": "code",
   "execution_count": null,
   "metadata": {},
   "outputs": [],
   "source": []
  }
 ],
 "metadata": {
  "kernelspec": {
   "display_name": "Python 3",
   "language": "python",
   "name": "python3"
  },
  "language_info": {
   "codemirror_mode": {
    "name": "ipython",
    "version": 3
   },
   "file_extension": ".py",
   "mimetype": "text/x-python",
   "name": "python",
   "nbconvert_exporter": "python",
   "pygments_lexer": "ipython3",
   "version": "3.7.0"
  }
 },
 "nbformat": 4,
 "nbformat_minor": 2
}
